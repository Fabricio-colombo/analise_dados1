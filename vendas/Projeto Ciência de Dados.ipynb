version https://git-lfs.github.com/spec/v1
oid sha256:dfc2d12eddc8e263a26d129f3ee4b144ba1e56b7fdf066317a025aaa60df8ff9
size 162411
